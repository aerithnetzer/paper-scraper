{
 "cells": [
  {
   "cell_type": "markdown",
   "id": "a0f1d3d0",
   "metadata": {},
   "source": [
    "# paper-scraper\n",
    "## Aerith Netzer, Kat Nykiel\n",
    "This tutorial requires you to input an [openAI API key](https://platform.openai.com/account/api-keys)"
   ]
  },
  {
   "cell_type": "markdown",
   "id": "c66776b7",
   "metadata": {},
   "source": [
    "### Load openAI API key "
   ]
  },
  {
   "cell_type": "code",
   "execution_count": null,
   "id": "abadb449",
   "metadata": {
    "ExecuteTime": {
     "end_time": "2023-08-01T13:59:32.021719Z",
     "start_time": "2023-08-01T13:59:32.010657Z"
    }
   },
   "outputs": [],
   "source": [
    "# Import helper functions\n",
    "import paperscraper as ps"
   ]
  },
  {
   "cell_type": "code",
   "execution_count": null,
   "id": "9559c656",
   "metadata": {
    "ExecuteTime": {
     "end_time": "2023-08-01T13:59:32.692274Z",
     "start_time": "2023-08-01T13:59:32.689455Z"
    }
   },
   "outputs": [],
   "source": [
    "# Load and store openAI API key\n",
    "key = ps.read_key()"
   ]
  },
  {
   "cell_type": "code",
   "execution_count": null,
   "id": "06073ed2",
   "metadata": {
    "ExecuteTime": {
     "end_time": "2023-08-01T13:59:34.363955Z",
     "start_time": "2023-08-01T13:59:33.210436Z"
    }
   },
   "outputs": [],
   "source": [
    "# Test if the key worked with a \"Hello world!\" to GPT-3.5-turbo\n",
    "ps.test_key(key)"
   ]
  },
  {
   "cell_type": "markdown",
   "id": "966549d2",
   "metadata": {},
   "source": [
    "### Input a list of papers to extract information from\n",
    "**Upload/set a path** to a set of academic papers (PDF form) for GPT to analyze\n",
    "\n",
    "warning: only upload *open-access* papers here, as you could be violating terms of service by sharing closed-access papers with GPT\n"
   ]
  },
  {
   "cell_type": "code",
   "execution_count": null,
   "id": "c827c3e3",
   "metadata": {
    "ExecuteTime": {
     "end_time": "2023-08-01T13:59:36.588262Z",
     "start_time": "2023-08-01T13:59:35.521287Z"
    }
   },
   "outputs": [],
   "source": [
    "# Choose a path to a set of papers uploaded on nanoHUB \n",
    "# TODO: fix path when tool is published\n",
    "import os\n",
    "\n",
    "# As an example, we have 10 papers on graphene pre-uploaded\n",
    "path = '/home/nanohub/nykiel.4/paper-scraper/sample_papers'\n",
    "\n",
    "# Print the list of PDF files\n",
    "file_list = os.listdir(path)\n",
    "pdf_list = [file for file in file_list if file.endswith('.pdf')]\n",
    "print(\"PDF files in directory:\")\n",
    "for file_name in pdf_list:\n",
    "    print(f\"\\t{file_name}\")"
   ]
  },
  {
   "cell_type": "markdown",
   "id": "16086192",
   "metadata": {},
   "source": [
    "### Extract keywords from papers"
   ]
  },
  {
   "cell_type": "code",
   "execution_count": null,
   "id": "d0fdc6c9",
   "metadata": {
    "ExecuteTime": {
     "end_time": "2023-08-01T13:49:48.996269Z",
     "start_time": "2023-08-01T13:48:39.994315Z"
    },
    "scrolled": true
   },
   "outputs": [],
   "source": [
    "# Loop through all the files in the \"input_path\" directory using the os.listdir() method\n",
    "keywords = []\n",
    "papers = os.listdir(path)\n",
    "\n",
    "for paper in papers:\n",
    "    # Check if each file ends with \".pdf\"\n",
    "    if paper.endswith('.pdf'):\n",
    "        # Get the text content of the current PDF file using the \"get_pdf_text\" function \n",
    "        text_content = ps.get_pdf_text(os.path.join(path,paper))\n",
    "\n",
    "        # Run the GPT model on the text content to generate keywords \n",
    "        keywords.append(ps.run_gpt_model(text_content,key))\n",
    "        print(f'\\n{paper}: {keywords}')"
   ]
  },
  {
   "cell_type": "markdown",
   "id": "334ee32a",
   "metadata": {},
   "source": [
    "### Visualize the keywords with a network graph"
   ]
  },
  {
   "cell_type": "code",
   "execution_count": null,
   "id": "f5506ab3",
   "metadata": {
    "ExecuteTime": {
     "end_time": "2023-08-01T13:49:49.067344Z",
     "start_time": "2023-08-01T13:49:49.015680Z"
    }
   },
   "outputs": [],
   "source": [
    "ps.network_graph(keywords,papers)"
   ]
  },
  {
   "cell_type": "code",
   "execution_count": null,
   "id": "92e6e9f2",
   "metadata": {},
   "outputs": [],
   "source": []
  }
 ],
 "metadata": {
  "kernelspec": {
   "display_name": "Python3.8 (openai)",
   "language": "python",
   "name": "openai"
  },
  "language_info": {
   "codemirror_mode": {
    "name": "ipython",
    "version": 3
   },
   "file_extension": ".py",
   "mimetype": "text/x-python",
   "name": "python",
   "nbconvert_exporter": "python",
   "pygments_lexer": "ipython3",
   "version": "3.8.16"
  },
  "toc": {
   "base_numbering": 1,
   "nav_menu": {},
   "number_sections": true,
   "sideBar": true,
   "skip_h1_title": false,
   "title_cell": "Table of Contents",
   "title_sidebar": "Contents",
   "toc_cell": false,
   "toc_position": {},
   "toc_section_display": true,
   "toc_window_display": false
  },
  "varInspector": {
   "cols": {
    "lenName": 16,
    "lenType": 16,
    "lenVar": 40
   },
   "kernels_config": {
    "python": {
     "delete_cmd_postfix": "",
     "delete_cmd_prefix": "del ",
     "library": "var_list.py",
     "varRefreshCmd": "print(var_dic_list())"
    },
    "r": {
     "delete_cmd_postfix": ") ",
     "delete_cmd_prefix": "rm(",
     "library": "var_list.r",
     "varRefreshCmd": "cat(var_dic_list()) "
    }
   },
   "types_to_exclude": [
    "module",
    "function",
    "builtin_function_or_method",
    "instance",
    "_Feature"
   ],
   "window_display": false
  }
 },
 "nbformat": 4,
 "nbformat_minor": 5
}
